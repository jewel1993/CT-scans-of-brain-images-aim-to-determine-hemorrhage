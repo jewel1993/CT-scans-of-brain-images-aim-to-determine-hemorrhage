{
  "nbformat": 4,
  "nbformat_minor": 0,
  "metadata": {
    "colab": {
      "name": "TransferLearning.ipynb",
      "provenance": []
    },
    "kernelspec": {
      "name": "python3",
      "display_name": "Python 3"
    },
    "language_info": {
      "name": "python"
    }
  },
  "cells": [
    {
      "cell_type": "code",
      "metadata": {
        "id": "EzkRPXm0k5hX"
      },
      "source": [
        "\n",
        "\n",
        "import glob\n",
        "import numpy as np\n",
        "import pandas as pd \n",
        "\n"
      ],
      "execution_count": 1,
      "outputs": []
    },
    {
      "cell_type": "code",
      "metadata": {
        "colab": {
          "base_uri": "https://localhost:8080/"
        },
        "id": "w3VMLPrOlACP",
        "outputId": "948dbb44-d400-403e-c4a2-876bb5b93fbd"
      },
      "source": [
        "path='./drive/MyDrive/head_ct/head_ct'\n",
        "glob.glob(path+'/*')"
      ],
      "execution_count": 2,
      "outputs": [
        {
          "output_type": "execute_result",
          "data": {
            "text/plain": [
              "['./drive/MyDrive/head_ct/head_ct/003.png',\n",
              " './drive/MyDrive/head_ct/head_ct/010.png',\n",
              " './drive/MyDrive/head_ct/head_ct/000.png',\n",
              " './drive/MyDrive/head_ct/head_ct/005.png',\n",
              " './drive/MyDrive/head_ct/head_ct/002.png',\n",
              " './drive/MyDrive/head_ct/head_ct/007.png',\n",
              " './drive/MyDrive/head_ct/head_ct/008.png',\n",
              " './drive/MyDrive/head_ct/head_ct/011.png',\n",
              " './drive/MyDrive/head_ct/head_ct/004.png',\n",
              " './drive/MyDrive/head_ct/head_ct/012.png',\n",
              " './drive/MyDrive/head_ct/head_ct/006.png',\n",
              " './drive/MyDrive/head_ct/head_ct/009.png',\n",
              " './drive/MyDrive/head_ct/head_ct/001.png',\n",
              " './drive/MyDrive/head_ct/head_ct/104.png',\n",
              " './drive/MyDrive/head_ct/head_ct/105.png',\n",
              " './drive/MyDrive/head_ct/head_ct/066.png',\n",
              " './drive/MyDrive/head_ct/head_ct/077.png',\n",
              " './drive/MyDrive/head_ct/head_ct/093.png',\n",
              " './drive/MyDrive/head_ct/head_ct/090.png',\n",
              " './drive/MyDrive/head_ct/head_ct/075.png',\n",
              " './drive/MyDrive/head_ct/head_ct/089.png',\n",
              " './drive/MyDrive/head_ct/head_ct/083.png',\n",
              " './drive/MyDrive/head_ct/head_ct/022.png',\n",
              " './drive/MyDrive/head_ct/head_ct/023.png',\n",
              " './drive/MyDrive/head_ct/head_ct/013.png',\n",
              " './drive/MyDrive/head_ct/head_ct/065.png',\n",
              " './drive/MyDrive/head_ct/head_ct/030.png',\n",
              " './drive/MyDrive/head_ct/head_ct/018.png',\n",
              " './drive/MyDrive/head_ct/head_ct/118.png',\n",
              " './drive/MyDrive/head_ct/head_ct/130.png',\n",
              " './drive/MyDrive/head_ct/head_ct/076.png',\n",
              " './drive/MyDrive/head_ct/head_ct/063.png',\n",
              " './drive/MyDrive/head_ct/head_ct/110.png',\n",
              " './drive/MyDrive/head_ct/head_ct/121.png',\n",
              " './drive/MyDrive/head_ct/head_ct/021.png',\n",
              " './drive/MyDrive/head_ct/head_ct/031.png',\n",
              " './drive/MyDrive/head_ct/head_ct/091.png',\n",
              " './drive/MyDrive/head_ct/head_ct/039.png',\n",
              " './drive/MyDrive/head_ct/head_ct/074.png',\n",
              " './drive/MyDrive/head_ct/head_ct/116.png',\n",
              " './drive/MyDrive/head_ct/head_ct/036.png',\n",
              " './drive/MyDrive/head_ct/head_ct/015.png',\n",
              " './drive/MyDrive/head_ct/head_ct/070.png',\n",
              " './drive/MyDrive/head_ct/head_ct/082.png',\n",
              " './drive/MyDrive/head_ct/head_ct/035.png',\n",
              " './drive/MyDrive/head_ct/head_ct/057.png',\n",
              " './drive/MyDrive/head_ct/head_ct/071.png',\n",
              " './drive/MyDrive/head_ct/head_ct/101.png',\n",
              " './drive/MyDrive/head_ct/head_ct/014.png',\n",
              " './drive/MyDrive/head_ct/head_ct/078.png',\n",
              " './drive/MyDrive/head_ct/head_ct/059.png',\n",
              " './drive/MyDrive/head_ct/head_ct/067.png',\n",
              " './drive/MyDrive/head_ct/head_ct/115.png',\n",
              " './drive/MyDrive/head_ct/head_ct/034.png',\n",
              " './drive/MyDrive/head_ct/head_ct/122.png',\n",
              " './drive/MyDrive/head_ct/head_ct/113.png',\n",
              " './drive/MyDrive/head_ct/head_ct/053.png',\n",
              " './drive/MyDrive/head_ct/head_ct/097.png',\n",
              " './drive/MyDrive/head_ct/head_ct/120.png',\n",
              " './drive/MyDrive/head_ct/head_ct/125.png',\n",
              " './drive/MyDrive/head_ct/head_ct/026.png',\n",
              " './drive/MyDrive/head_ct/head_ct/123.png',\n",
              " './drive/MyDrive/head_ct/head_ct/103.png',\n",
              " './drive/MyDrive/head_ct/head_ct/069.png',\n",
              " './drive/MyDrive/head_ct/head_ct/040.png',\n",
              " './drive/MyDrive/head_ct/head_ct/114.png',\n",
              " './drive/MyDrive/head_ct/head_ct/016.png',\n",
              " './drive/MyDrive/head_ct/head_ct/038.png',\n",
              " './drive/MyDrive/head_ct/head_ct/020.png',\n",
              " './drive/MyDrive/head_ct/head_ct/054.png',\n",
              " './drive/MyDrive/head_ct/head_ct/056.png',\n",
              " './drive/MyDrive/head_ct/head_ct/112.png',\n",
              " './drive/MyDrive/head_ct/head_ct/107.png',\n",
              " './drive/MyDrive/head_ct/head_ct/106.png',\n",
              " './drive/MyDrive/head_ct/head_ct/108.png',\n",
              " './drive/MyDrive/head_ct/head_ct/119.png',\n",
              " './drive/MyDrive/head_ct/head_ct/047.png',\n",
              " './drive/MyDrive/head_ct/head_ct/064.png',\n",
              " './drive/MyDrive/head_ct/head_ct/128.png',\n",
              " './drive/MyDrive/head_ct/head_ct/100.png',\n",
              " './drive/MyDrive/head_ct/head_ct/028.png',\n",
              " './drive/MyDrive/head_ct/head_ct/052.png',\n",
              " './drive/MyDrive/head_ct/head_ct/019.png',\n",
              " './drive/MyDrive/head_ct/head_ct/102.png',\n",
              " './drive/MyDrive/head_ct/head_ct/061.png',\n",
              " './drive/MyDrive/head_ct/head_ct/058.png',\n",
              " './drive/MyDrive/head_ct/head_ct/068.png',\n",
              " './drive/MyDrive/head_ct/head_ct/051.png',\n",
              " './drive/MyDrive/head_ct/head_ct/109.png',\n",
              " './drive/MyDrive/head_ct/head_ct/099.png',\n",
              " './drive/MyDrive/head_ct/head_ct/127.png',\n",
              " './drive/MyDrive/head_ct/head_ct/032.png',\n",
              " './drive/MyDrive/head_ct/head_ct/117.png',\n",
              " './drive/MyDrive/head_ct/head_ct/085.png',\n",
              " './drive/MyDrive/head_ct/head_ct/073.png',\n",
              " './drive/MyDrive/head_ct/head_ct/025.png',\n",
              " './drive/MyDrive/head_ct/head_ct/062.png',\n",
              " './drive/MyDrive/head_ct/head_ct/060.png',\n",
              " './drive/MyDrive/head_ct/head_ct/081.png',\n",
              " './drive/MyDrive/head_ct/head_ct/072.png',\n",
              " './drive/MyDrive/head_ct/head_ct/044.png',\n",
              " './drive/MyDrive/head_ct/head_ct/087.png',\n",
              " './drive/MyDrive/head_ct/head_ct/029.png',\n",
              " './drive/MyDrive/head_ct/head_ct/079.png',\n",
              " './drive/MyDrive/head_ct/head_ct/095.png',\n",
              " './drive/MyDrive/head_ct/head_ct/024.png',\n",
              " './drive/MyDrive/head_ct/head_ct/050.png',\n",
              " './drive/MyDrive/head_ct/head_ct/096.png',\n",
              " './drive/MyDrive/head_ct/head_ct/041.png',\n",
              " './drive/MyDrive/head_ct/head_ct/098.png',\n",
              " './drive/MyDrive/head_ct/head_ct/027.png',\n",
              " './drive/MyDrive/head_ct/head_ct/043.png',\n",
              " './drive/MyDrive/head_ct/head_ct/092.png',\n",
              " './drive/MyDrive/head_ct/head_ct/045.png',\n",
              " './drive/MyDrive/head_ct/head_ct/129.png',\n",
              " './drive/MyDrive/head_ct/head_ct/088.png',\n",
              " './drive/MyDrive/head_ct/head_ct/086.png',\n",
              " './drive/MyDrive/head_ct/head_ct/017.png',\n",
              " './drive/MyDrive/head_ct/head_ct/124.png',\n",
              " './drive/MyDrive/head_ct/head_ct/049.png',\n",
              " './drive/MyDrive/head_ct/head_ct/084.png',\n",
              " './drive/MyDrive/head_ct/head_ct/094.png',\n",
              " './drive/MyDrive/head_ct/head_ct/046.png',\n",
              " './drive/MyDrive/head_ct/head_ct/126.png',\n",
              " './drive/MyDrive/head_ct/head_ct/080.png',\n",
              " './drive/MyDrive/head_ct/head_ct/111.png',\n",
              " './drive/MyDrive/head_ct/head_ct/033.png',\n",
              " './drive/MyDrive/head_ct/head_ct/037.png',\n",
              " './drive/MyDrive/head_ct/head_ct/042.png',\n",
              " './drive/MyDrive/head_ct/head_ct/055.png',\n",
              " './drive/MyDrive/head_ct/head_ct/048.png',\n",
              " './drive/MyDrive/head_ct/head_ct/199.png',\n",
              " './drive/MyDrive/head_ct/head_ct/139.png',\n",
              " './drive/MyDrive/head_ct/head_ct/167.png',\n",
              " './drive/MyDrive/head_ct/head_ct/145.png',\n",
              " './drive/MyDrive/head_ct/head_ct/192.png',\n",
              " './drive/MyDrive/head_ct/head_ct/194.png',\n",
              " './drive/MyDrive/head_ct/head_ct/163.png',\n",
              " './drive/MyDrive/head_ct/head_ct/154.png',\n",
              " './drive/MyDrive/head_ct/head_ct/168.png',\n",
              " './drive/MyDrive/head_ct/head_ct/137.png',\n",
              " './drive/MyDrive/head_ct/head_ct/172.png',\n",
              " './drive/MyDrive/head_ct/head_ct/132.png',\n",
              " './drive/MyDrive/head_ct/head_ct/177.png',\n",
              " './drive/MyDrive/head_ct/head_ct/146.png',\n",
              " './drive/MyDrive/head_ct/head_ct/170.png',\n",
              " './drive/MyDrive/head_ct/head_ct/179.png',\n",
              " './drive/MyDrive/head_ct/head_ct/135.png',\n",
              " './drive/MyDrive/head_ct/head_ct/153.png',\n",
              " './drive/MyDrive/head_ct/head_ct/156.png',\n",
              " './drive/MyDrive/head_ct/head_ct/191.png',\n",
              " './drive/MyDrive/head_ct/head_ct/180.png',\n",
              " './drive/MyDrive/head_ct/head_ct/162.png',\n",
              " './drive/MyDrive/head_ct/head_ct/195.png',\n",
              " './drive/MyDrive/head_ct/head_ct/166.png',\n",
              " './drive/MyDrive/head_ct/head_ct/169.png',\n",
              " './drive/MyDrive/head_ct/head_ct/196.png',\n",
              " './drive/MyDrive/head_ct/head_ct/131.png',\n",
              " './drive/MyDrive/head_ct/head_ct/158.png',\n",
              " './drive/MyDrive/head_ct/head_ct/171.png',\n",
              " './drive/MyDrive/head_ct/head_ct/186.png',\n",
              " './drive/MyDrive/head_ct/head_ct/152.png',\n",
              " './drive/MyDrive/head_ct/head_ct/164.png',\n",
              " './drive/MyDrive/head_ct/head_ct/141.png',\n",
              " './drive/MyDrive/head_ct/head_ct/181.png',\n",
              " './drive/MyDrive/head_ct/head_ct/149.png',\n",
              " './drive/MyDrive/head_ct/head_ct/155.png',\n",
              " './drive/MyDrive/head_ct/head_ct/185.png',\n",
              " './drive/MyDrive/head_ct/head_ct/173.png',\n",
              " './drive/MyDrive/head_ct/head_ct/188.png',\n",
              " './drive/MyDrive/head_ct/head_ct/165.png',\n",
              " './drive/MyDrive/head_ct/head_ct/142.png',\n",
              " './drive/MyDrive/head_ct/head_ct/184.png',\n",
              " './drive/MyDrive/head_ct/head_ct/178.png',\n",
              " './drive/MyDrive/head_ct/head_ct/148.png',\n",
              " './drive/MyDrive/head_ct/head_ct/136.png',\n",
              " './drive/MyDrive/head_ct/head_ct/140.png',\n",
              " './drive/MyDrive/head_ct/head_ct/138.png',\n",
              " './drive/MyDrive/head_ct/head_ct/134.png',\n",
              " './drive/MyDrive/head_ct/head_ct/187.png',\n",
              " './drive/MyDrive/head_ct/head_ct/190.png',\n",
              " './drive/MyDrive/head_ct/head_ct/133.png',\n",
              " './drive/MyDrive/head_ct/head_ct/175.png',\n",
              " './drive/MyDrive/head_ct/head_ct/151.png',\n",
              " './drive/MyDrive/head_ct/head_ct/147.png',\n",
              " './drive/MyDrive/head_ct/head_ct/160.png',\n",
              " './drive/MyDrive/head_ct/head_ct/159.png',\n",
              " './drive/MyDrive/head_ct/head_ct/176.png',\n",
              " './drive/MyDrive/head_ct/head_ct/193.png',\n",
              " './drive/MyDrive/head_ct/head_ct/143.png',\n",
              " './drive/MyDrive/head_ct/head_ct/197.png',\n",
              " './drive/MyDrive/head_ct/head_ct/174.png',\n",
              " './drive/MyDrive/head_ct/head_ct/182.png',\n",
              " './drive/MyDrive/head_ct/head_ct/189.png',\n",
              " './drive/MyDrive/head_ct/head_ct/157.png',\n",
              " './drive/MyDrive/head_ct/head_ct/198.png',\n",
              " './drive/MyDrive/head_ct/head_ct/150.png',\n",
              " './drive/MyDrive/head_ct/head_ct/183.png',\n",
              " './drive/MyDrive/head_ct/head_ct/161.png',\n",
              " './drive/MyDrive/head_ct/head_ct/144.png']"
            ]
          },
          "metadata": {
            "tags": []
          },
          "execution_count": 2
        }
      ]
    },
    {
      "cell_type": "code",
      "metadata": {
        "id": "2SRSVpZalRbF"
      },
      "source": [
        "import tensorflow as tf\n",
        "from tensorflow.keras.preprocessing.image import load_img, img_to_array"
      ],
      "execution_count": 3,
      "outputs": []
    },
    {
      "cell_type": "code",
      "metadata": {
        "id": "GB1m4Mh5lWBN"
      },
      "source": [
        "def load_samples_as_images(pathX, pathY,img_width, img_height):\n",
        "    files = sorted(glob.glob(pathX))\n",
        "    labels_df = pd.read_csv(pathY)\n",
        "    Y = np.array(labels_df[' hemorrhage'].tolist())\n",
        "    X=[]\n",
        "\n",
        "    for i, _file in enumerate(files):\n",
        "        img=load_img(_file, target_size=(150,150))\n",
        "        img=img_to_array(img)\n",
        "        img=img/255.0\n",
        "        X.append(img)\n",
        "    X=np.array(X)\n",
        "    return X, Y"
      ],
      "execution_count": 14,
      "outputs": []
    },
    {
      "cell_type": "code",
      "metadata": {
        "id": "CRBxNhdRln8t"
      },
      "source": [
        "import cv2\n",
        "pathX = \"./drive/MyDrive/head_ct/head_ct/*.png\"\n",
        "pathY = './drive/MyDrive/labels.csv'\n",
        "img_width=150\n",
        "img_height=150\n",
        "images, Y = load_samples_as_images(pathX, pathY, img_width, img_height)"
      ],
      "execution_count": 15,
      "outputs": []
    },
    {
      "cell_type": "code",
      "metadata": {
        "id": "HP0dz-svnS0O"
      },
      "source": [
        "from sklearn.model_selection import train_test_split\n",
        "# split the dataset into train (80%), validation (10%) and test (10%) sets.\n",
        "train_images, test_images, train_labels, test_labels = train_test_split(images, Y, test_size=0.2,\n",
        "                                                                            random_state=1)"
      ],
      "execution_count": 16,
      "outputs": []
    },
    {
      "cell_type": "code",
      "metadata": {
        "colab": {
          "base_uri": "https://localhost:8080/"
        },
        "id": "kVHJf5v7nzuo",
        "outputId": "613f1023-2cde-44ac-db02-afe8188ea13a"
      },
      "source": [
        "from tensorflow.keras.applications import ResNet50\n",
        "from tensorflow.keras import layers\n",
        "from tensorflow.keras import Model\n",
        "from tensorflow.keras.optimizers import RMSprop\n",
        "#step1\n",
        "# file_resnet='/kaggle/input/vgg16/resnet50_weights_tf_dim_ordering_tf_kernels_notop.h5'\n",
        "pretrained_model=ResNet50( input_shape=(150,150,3),\n",
        "                                  include_top=False,\n",
        "                                  weights='imagenet'\n",
        "                                   )\n",
        "#step2\n",
        "for layer in pretrained_model.layers:\n",
        "     layer.trainable = False\n",
        "\n",
        "# pretrained_model.summary()\n",
        "        \n",
        "#step3        \n",
        "last_layer = pretrained_model.get_layer('conv5_block3_out')\n",
        "print('last layer of vgg : output shape: ', last_layer.output_shape)\n",
        "last_output = last_layer.output\n",
        "\n",
        "#step4\n",
        "x = layers.Flatten()(last_output)\n",
        "x = layers.Dense(64, activation='relu')(x)\n",
        "x = layers.Dropout(0.4)(x)                  \n",
        "x = layers.Dense(1, activation='sigmoid')(x)\n",
        "\n",
        "\n",
        "#step5\n",
        "model_resnet = Model(pretrained_model.input, x) \n",
        "\n",
        "#step6\n",
        "model_resnet.compile(optimizer = RMSprop(lr=0.0001), \n",
        "              loss = 'binary_crossentropy', \n",
        "              metrics = ['acc'])\n"
      ],
      "execution_count": 36,
      "outputs": [
        {
          "output_type": "stream",
          "text": [
            "last layer of vgg : output shape:  (None, 5, 5, 2048)\n"
          ],
          "name": "stdout"
        },
        {
          "output_type": "stream",
          "text": [
            "/usr/local/lib/python3.7/dist-packages/tensorflow/python/keras/optimizer_v2/optimizer_v2.py:375: UserWarning: The `lr` argument is deprecated, use `learning_rate` instead.\n",
            "  \"The `lr` argument is deprecated, use `learning_rate` instead.\")\n"
          ],
          "name": "stderr"
        }
      ]
    },
    {
      "cell_type": "code",
      "metadata": {
        "colab": {
          "base_uri": "https://localhost:8080/",
          "height": 419
        },
        "id": "09HmmQIpoI8W",
        "outputId": "003428ea-372e-4c41-b22a-21042dd05e72"
      },
      "source": [
        "model_resnet.fit(train_images,train_labels,epochs=100,validation_data=(test_images,test_labels))"
      ],
      "execution_count": 37,
      "outputs": [
        {
          "output_type": "stream",
          "text": [
            "Epoch 1/100\n",
            "5/5 [==============================] - 17s 3s/step - loss: 49.0101 - acc: 0.5813 - val_loss: 24.8813 - val_acc: 0.4250\n",
            "Epoch 2/100\n",
            "3/5 [=================>............] - ETA: 4s - loss: 23.7050 - acc: 0.5625"
          ],
          "name": "stdout"
        },
        {
          "output_type": "error",
          "ename": "KeyboardInterrupt",
          "evalue": "ignored",
          "traceback": [
            "\u001b[0;31m---------------------------------------------------------------------------\u001b[0m",
            "\u001b[0;31mKeyboardInterrupt\u001b[0m                         Traceback (most recent call last)",
            "\u001b[0;32m<ipython-input-37-aaab68ce992a>\u001b[0m in \u001b[0;36m<module>\u001b[0;34m()\u001b[0m\n\u001b[0;32m----> 1\u001b[0;31m \u001b[0mmodel_resnet\u001b[0m\u001b[0;34m.\u001b[0m\u001b[0mfit\u001b[0m\u001b[0;34m(\u001b[0m\u001b[0mtrain_images\u001b[0m\u001b[0;34m,\u001b[0m\u001b[0mtrain_labels\u001b[0m\u001b[0;34m,\u001b[0m\u001b[0mepochs\u001b[0m\u001b[0;34m=\u001b[0m\u001b[0;36m100\u001b[0m\u001b[0;34m,\u001b[0m\u001b[0mvalidation_data\u001b[0m\u001b[0;34m=\u001b[0m\u001b[0;34m(\u001b[0m\u001b[0mtest_images\u001b[0m\u001b[0;34m,\u001b[0m\u001b[0mtest_labels\u001b[0m\u001b[0;34m)\u001b[0m\u001b[0;34m)\u001b[0m\u001b[0;34m\u001b[0m\u001b[0;34m\u001b[0m\u001b[0m\n\u001b[0m",
            "\u001b[0;32m/usr/local/lib/python3.7/dist-packages/tensorflow/python/keras/engine/training.py\u001b[0m in \u001b[0;36mfit\u001b[0;34m(self, x, y, batch_size, epochs, verbose, callbacks, validation_split, validation_data, shuffle, class_weight, sample_weight, initial_epoch, steps_per_epoch, validation_steps, validation_batch_size, validation_freq, max_queue_size, workers, use_multiprocessing)\u001b[0m\n\u001b[1;32m   1181\u001b[0m                 _r=1):\n\u001b[1;32m   1182\u001b[0m               \u001b[0mcallbacks\u001b[0m\u001b[0;34m.\u001b[0m\u001b[0mon_train_batch_begin\u001b[0m\u001b[0;34m(\u001b[0m\u001b[0mstep\u001b[0m\u001b[0;34m)\u001b[0m\u001b[0;34m\u001b[0m\u001b[0;34m\u001b[0m\u001b[0m\n\u001b[0;32m-> 1183\u001b[0;31m               \u001b[0mtmp_logs\u001b[0m \u001b[0;34m=\u001b[0m \u001b[0mself\u001b[0m\u001b[0;34m.\u001b[0m\u001b[0mtrain_function\u001b[0m\u001b[0;34m(\u001b[0m\u001b[0miterator\u001b[0m\u001b[0;34m)\u001b[0m\u001b[0;34m\u001b[0m\u001b[0;34m\u001b[0m\u001b[0m\n\u001b[0m\u001b[1;32m   1184\u001b[0m               \u001b[0;32mif\u001b[0m \u001b[0mdata_handler\u001b[0m\u001b[0;34m.\u001b[0m\u001b[0mshould_sync\u001b[0m\u001b[0;34m:\u001b[0m\u001b[0;34m\u001b[0m\u001b[0;34m\u001b[0m\u001b[0m\n\u001b[1;32m   1185\u001b[0m                 \u001b[0mcontext\u001b[0m\u001b[0;34m.\u001b[0m\u001b[0masync_wait\u001b[0m\u001b[0;34m(\u001b[0m\u001b[0;34m)\u001b[0m\u001b[0;34m\u001b[0m\u001b[0;34m\u001b[0m\u001b[0m\n",
            "\u001b[0;32m/usr/local/lib/python3.7/dist-packages/tensorflow/python/eager/def_function.py\u001b[0m in \u001b[0;36m__call__\u001b[0;34m(self, *args, **kwds)\u001b[0m\n\u001b[1;32m    887\u001b[0m \u001b[0;34m\u001b[0m\u001b[0m\n\u001b[1;32m    888\u001b[0m       \u001b[0;32mwith\u001b[0m \u001b[0mOptionalXlaContext\u001b[0m\u001b[0;34m(\u001b[0m\u001b[0mself\u001b[0m\u001b[0;34m.\u001b[0m\u001b[0m_jit_compile\u001b[0m\u001b[0;34m)\u001b[0m\u001b[0;34m:\u001b[0m\u001b[0;34m\u001b[0m\u001b[0;34m\u001b[0m\u001b[0m\n\u001b[0;32m--> 889\u001b[0;31m         \u001b[0mresult\u001b[0m \u001b[0;34m=\u001b[0m \u001b[0mself\u001b[0m\u001b[0;34m.\u001b[0m\u001b[0m_call\u001b[0m\u001b[0;34m(\u001b[0m\u001b[0;34m*\u001b[0m\u001b[0margs\u001b[0m\u001b[0;34m,\u001b[0m \u001b[0;34m**\u001b[0m\u001b[0mkwds\u001b[0m\u001b[0;34m)\u001b[0m\u001b[0;34m\u001b[0m\u001b[0;34m\u001b[0m\u001b[0m\n\u001b[0m\u001b[1;32m    890\u001b[0m \u001b[0;34m\u001b[0m\u001b[0m\n\u001b[1;32m    891\u001b[0m       \u001b[0mnew_tracing_count\u001b[0m \u001b[0;34m=\u001b[0m \u001b[0mself\u001b[0m\u001b[0;34m.\u001b[0m\u001b[0mexperimental_get_tracing_count\u001b[0m\u001b[0;34m(\u001b[0m\u001b[0;34m)\u001b[0m\u001b[0;34m\u001b[0m\u001b[0;34m\u001b[0m\u001b[0m\n",
            "\u001b[0;32m/usr/local/lib/python3.7/dist-packages/tensorflow/python/eager/def_function.py\u001b[0m in \u001b[0;36m_call\u001b[0;34m(self, *args, **kwds)\u001b[0m\n\u001b[1;32m    915\u001b[0m       \u001b[0;31m# In this case we have created variables on the first call, so we run the\u001b[0m\u001b[0;34m\u001b[0m\u001b[0;34m\u001b[0m\u001b[0;34m\u001b[0m\u001b[0m\n\u001b[1;32m    916\u001b[0m       \u001b[0;31m# defunned version which is guaranteed to never create variables.\u001b[0m\u001b[0;34m\u001b[0m\u001b[0;34m\u001b[0m\u001b[0;34m\u001b[0m\u001b[0m\n\u001b[0;32m--> 917\u001b[0;31m       \u001b[0;32mreturn\u001b[0m \u001b[0mself\u001b[0m\u001b[0;34m.\u001b[0m\u001b[0m_stateless_fn\u001b[0m\u001b[0;34m(\u001b[0m\u001b[0;34m*\u001b[0m\u001b[0margs\u001b[0m\u001b[0;34m,\u001b[0m \u001b[0;34m**\u001b[0m\u001b[0mkwds\u001b[0m\u001b[0;34m)\u001b[0m  \u001b[0;31m# pylint: disable=not-callable\u001b[0m\u001b[0;34m\u001b[0m\u001b[0;34m\u001b[0m\u001b[0m\n\u001b[0m\u001b[1;32m    918\u001b[0m     \u001b[0;32melif\u001b[0m \u001b[0mself\u001b[0m\u001b[0;34m.\u001b[0m\u001b[0m_stateful_fn\u001b[0m \u001b[0;32mis\u001b[0m \u001b[0;32mnot\u001b[0m \u001b[0;32mNone\u001b[0m\u001b[0;34m:\u001b[0m\u001b[0;34m\u001b[0m\u001b[0;34m\u001b[0m\u001b[0m\n\u001b[1;32m    919\u001b[0m       \u001b[0;31m# Release the lock early so that multiple threads can perform the call\u001b[0m\u001b[0;34m\u001b[0m\u001b[0;34m\u001b[0m\u001b[0;34m\u001b[0m\u001b[0m\n",
            "\u001b[0;32m/usr/local/lib/python3.7/dist-packages/tensorflow/python/eager/function.py\u001b[0m in \u001b[0;36m__call__\u001b[0;34m(self, *args, **kwargs)\u001b[0m\n\u001b[1;32m   3022\u001b[0m        filtered_flat_args) = self._maybe_define_function(args, kwargs)\n\u001b[1;32m   3023\u001b[0m     return graph_function._call_flat(\n\u001b[0;32m-> 3024\u001b[0;31m         filtered_flat_args, captured_inputs=graph_function.captured_inputs)  # pylint: disable=protected-access\n\u001b[0m\u001b[1;32m   3025\u001b[0m \u001b[0;34m\u001b[0m\u001b[0m\n\u001b[1;32m   3026\u001b[0m   \u001b[0;34m@\u001b[0m\u001b[0mproperty\u001b[0m\u001b[0;34m\u001b[0m\u001b[0;34m\u001b[0m\u001b[0m\n",
            "\u001b[0;32m/usr/local/lib/python3.7/dist-packages/tensorflow/python/eager/function.py\u001b[0m in \u001b[0;36m_call_flat\u001b[0;34m(self, args, captured_inputs, cancellation_manager)\u001b[0m\n\u001b[1;32m   1959\u001b[0m       \u001b[0;31m# No tape is watching; skip to running the function.\u001b[0m\u001b[0;34m\u001b[0m\u001b[0;34m\u001b[0m\u001b[0;34m\u001b[0m\u001b[0m\n\u001b[1;32m   1960\u001b[0m       return self._build_call_outputs(self._inference_function.call(\n\u001b[0;32m-> 1961\u001b[0;31m           ctx, args, cancellation_manager=cancellation_manager))\n\u001b[0m\u001b[1;32m   1962\u001b[0m     forward_backward = self._select_forward_and_backward_functions(\n\u001b[1;32m   1963\u001b[0m         \u001b[0margs\u001b[0m\u001b[0;34m,\u001b[0m\u001b[0;34m\u001b[0m\u001b[0;34m\u001b[0m\u001b[0m\n",
            "\u001b[0;32m/usr/local/lib/python3.7/dist-packages/tensorflow/python/eager/function.py\u001b[0m in \u001b[0;36mcall\u001b[0;34m(self, ctx, args, cancellation_manager)\u001b[0m\n\u001b[1;32m    594\u001b[0m               \u001b[0minputs\u001b[0m\u001b[0;34m=\u001b[0m\u001b[0margs\u001b[0m\u001b[0;34m,\u001b[0m\u001b[0;34m\u001b[0m\u001b[0;34m\u001b[0m\u001b[0m\n\u001b[1;32m    595\u001b[0m               \u001b[0mattrs\u001b[0m\u001b[0;34m=\u001b[0m\u001b[0mattrs\u001b[0m\u001b[0;34m,\u001b[0m\u001b[0;34m\u001b[0m\u001b[0;34m\u001b[0m\u001b[0m\n\u001b[0;32m--> 596\u001b[0;31m               ctx=ctx)\n\u001b[0m\u001b[1;32m    597\u001b[0m         \u001b[0;32melse\u001b[0m\u001b[0;34m:\u001b[0m\u001b[0;34m\u001b[0m\u001b[0;34m\u001b[0m\u001b[0m\n\u001b[1;32m    598\u001b[0m           outputs = execute.execute_with_cancellation(\n",
            "\u001b[0;32m/usr/local/lib/python3.7/dist-packages/tensorflow/python/eager/execute.py\u001b[0m in \u001b[0;36mquick_execute\u001b[0;34m(op_name, num_outputs, inputs, attrs, ctx, name)\u001b[0m\n\u001b[1;32m     58\u001b[0m     \u001b[0mctx\u001b[0m\u001b[0;34m.\u001b[0m\u001b[0mensure_initialized\u001b[0m\u001b[0;34m(\u001b[0m\u001b[0;34m)\u001b[0m\u001b[0;34m\u001b[0m\u001b[0;34m\u001b[0m\u001b[0m\n\u001b[1;32m     59\u001b[0m     tensors = pywrap_tfe.TFE_Py_Execute(ctx._handle, device_name, op_name,\n\u001b[0;32m---> 60\u001b[0;31m                                         inputs, attrs, num_outputs)\n\u001b[0m\u001b[1;32m     61\u001b[0m   \u001b[0;32mexcept\u001b[0m \u001b[0mcore\u001b[0m\u001b[0;34m.\u001b[0m\u001b[0m_NotOkStatusException\u001b[0m \u001b[0;32mas\u001b[0m \u001b[0me\u001b[0m\u001b[0;34m:\u001b[0m\u001b[0;34m\u001b[0m\u001b[0;34m\u001b[0m\u001b[0m\n\u001b[1;32m     62\u001b[0m     \u001b[0;32mif\u001b[0m \u001b[0mname\u001b[0m \u001b[0;32mis\u001b[0m \u001b[0;32mnot\u001b[0m \u001b[0;32mNone\u001b[0m\u001b[0;34m:\u001b[0m\u001b[0;34m\u001b[0m\u001b[0;34m\u001b[0m\u001b[0m\n",
            "\u001b[0;31mKeyboardInterrupt\u001b[0m: "
          ]
        }
      ]
    },
    {
      "cell_type": "code",
      "metadata": {
        "id": "pm88GV5An50d"
      },
      "source": [
        ""
      ],
      "execution_count": null,
      "outputs": []
    }
  ]
}